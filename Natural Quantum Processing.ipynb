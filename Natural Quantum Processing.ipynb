{
 "cells": [
  {
   "cell_type": "code",
   "execution_count": 22,
   "metadata": {
    "ExecuteTime": {
     "end_time": "2020-01-22T20:59:18.615799Z",
     "start_time": "2020-01-22T20:59:15.560803Z"
    },
    "_cell_guid": "b1076dfc-b9ad-4769-8c92-a6c4dae69d19",
    "_uuid": "8f2839f25d086af736a60e9eeb907d3b93b6e0e5"
   },
   "outputs": [
    {
     "name": "stderr",
     "output_type": "stream",
     "text": [
      "[nltk_data] Downloading package wordnet to\n",
      "[nltk_data]     C:\\Users\\lsfer\\AppData\\Roaming\\nltk_data...\n",
      "[nltk_data]   Unzipping corpora\\wordnet.zip.\n"
     ]
    }
   ],
   "source": [
    "# This Python 3 environment comes with many helpful analytics libraries installed\n",
    "# It is defined by the kaggle/python docker image: https://github.com/kaggle/docker-python\n",
    "# For example, here's several helpful packages to load in \n",
    "\n",
    "import numpy as np # linear algebra\n",
    "import pandas as pd # data processing, CSV file I/O (e.g. pd.read_csv)\n",
    "import time\n",
    "import math\n",
    "import urllib.request as urllib2\n",
    "import datetime\n",
    "from collections import Counter, defaultdict\n",
    "import xml.etree.ElementTree as ET\n",
    "from bs4 import BeautifulSoup\n",
    "import matplotlib.pyplot as plt\n",
    "%matplotlib inline\n",
    "import sys\n",
    "# !{sys.executable} -m pip install bibtexparser\n",
    "# !{sys.executable} -m pip install nltk\n",
    "# !{sys.executable} -m pip install unidecode\n",
    "import nltk\n",
    "# nltk.download('stopwords')\n",
    "# nltk.download('wordnet')\n",
    "import nltk.stem as stem\n",
    "from nltk.corpus import stopwords\n",
    "import string\n",
    "import unidecode\n",
    "import random\n",
    "import torch\n",
    "import bibtexparser\n",
    "\n",
    "pd.set_option('mode.chained_assignment','warn')\n",
    "# Input data files are available in the \"../input/\" directory.\n",
    "# For example, running this (by clicking run or pressing Shift+Enter) will list all files under the input directory\n",
    "\n",
    "import os\n",
    "for dirname, _, filenames in os.walk('/kaggle/input'):\n",
    "    for filename in filenames:\n",
    "        print(os.path.join(dirname, filename))\n",
    "\n",
    "# Any results you write to the current directory are saved as output."
   ]
  },
  {
   "cell_type": "code",
   "execution_count": 4,
   "metadata": {
    "ExecuteTime": {
     "end_time": "2020-01-22T20:46:33.205239Z",
     "start_time": "2020-01-22T20:46:33.189399Z"
    }
   },
   "outputs": [],
   "source": [
    "def transform_date(yyyymmdd):\n",
    "    try:\n",
    "        d=datetime.datetime.strptime(yyyymmdd,'%Y-%m-%d')\n",
    "        string_v=yyyymmdd\n",
    "    except:\n",
    "        string_v=yyyymmdd.strftime('%Y-%m-%d')\n",
    "        d=datetime.datetime.strptime(string_v,'%Y-%m-%d')\n",
    "    return string_v,datetime.date(d.year,d.month,d.day)\n",
    "\n",
    "today=transform_date(datetime.datetime.today())\n",
    "start_date=transform_date(\"2010-01-01\")"
   ]
  },
  {
   "cell_type": "code",
   "execution_count": 5,
   "metadata": {
    "ExecuteTime": {
     "end_time": "2020-01-22T20:46:35.480398Z",
     "start_time": "2020-01-22T20:46:35.469396Z"
    },
    "_cell_guid": "79c7e3d0-c299-4dcb-8224-4455121ee9b0",
    "_uuid": "d629ff2d2480ee46fbb7e2d37f6b5fab8052498a"
   },
   "outputs": [],
   "source": [
    "OAI = \"{http://www.openarchives.org/OAI/2.0/}\"\n",
    "ARXIV = \"{http://arxiv.org/OAI/arXiv/}\"\n",
    "\n",
    "def harvest(arxiv=\"physics:quant-ph\",start_date=\"1994-06-01\",end_date=today[0]):\n",
    "    print(f\"Downloading section {arxiv} from {start_date} to {end_date}\")\n",
    "    df = pd.DataFrame(columns=(\"title\", \"abstract\", \"categories\", \"created\", \"id\", \"doi\"))\n",
    "    base_url = \"http://export.arxiv.org/oai2?verb=ListRecords&\"\n",
    "    url = (f\"{base_url}from={start_date}&until={end_date}&metadataPrefix=arXiv&set=%s\"%arxiv)\n",
    "    \n",
    "    while True:\n",
    "        print (\"fetching\", url)\n",
    "        try:\n",
    "            response = urllib2.urlopen(url)\n",
    "            \n",
    "        except urllib2.HTTPError as e:\n",
    "            if e.code == 503:\n",
    "                to = int(e.hdrs.get(\"retry-after\", 30))\n",
    "                print (\"Got 503. Retrying after {0:d} seconds.\".format(to))\n",
    "\n",
    "                time.sleep(to)\n",
    "                continue\n",
    "                \n",
    "            else:\n",
    "                raise\n",
    "            \n",
    "        xml = response.read()\n",
    "\n",
    "        root = ET.fromstring(xml)\n",
    "#         print(root)\n",
    "\n",
    "        for record in root.find(OAI+'ListRecords').findall(OAI+\"record\"):\n",
    "            arxiv_id = record.find(OAI+'header').find(OAI+'identifier')\n",
    "            meta = record.find(OAI+'metadata')\n",
    "            try:\n",
    "                info = meta.find(ARXIV+\"arXiv\")\n",
    "            except AttributeError:\n",
    "                continue\n",
    "            created = info.find(ARXIV+\"created\").text\n",
    "            created = datetime.datetime.strptime(created, \"%Y-%m-%d\")\n",
    "            categories = info.find(ARXIV+\"categories\").text\n",
    "\n",
    "            # if there is more than one DOI use the first one\n",
    "            # often the second one (if it exists at all) refers\n",
    "            # to an eratum or similar\n",
    "            doi = info.find(ARXIV+\"doi\")\n",
    "            if doi is not None:\n",
    "                doi = doi.text.split()[0]\n",
    "                \n",
    "            contents = {'title': info.find(ARXIV+\"title\").text,\n",
    "                        'id': info.find(ARXIV+\"id\").text,#arxiv_id.text[4:],\n",
    "                        'abstract': info.find(ARXIV+\"abstract\").text.strip(),\n",
    "                        'created': created,\n",
    "                        'categories': categories.split(),\n",
    "                        'doi': doi,\n",
    "                        }\n",
    "\n",
    "            df = df.append(contents, ignore_index=True)\n",
    "\n",
    "        # The list of articles returned by the API comes in chunks of\n",
    "        # 1000 articles. The presence of a resumptionToken tells us that\n",
    "        # there is more to be fetched.\n",
    "        token = root.find(OAI+'ListRecords').find(OAI+\"resumptionToken\")\n",
    "        if token is None or token.text is None:\n",
    "            break\n",
    "\n",
    "        else:\n",
    "            url = base_url + \"resumptionToken=%s\"%(token.text)\n",
    "            \n",
    "    return df"
   ]
  },
  {
   "cell_type": "code",
   "execution_count": 6,
   "metadata": {
    "ExecuteTime": {
     "end_time": "2020-01-22T20:53:31.522317Z",
     "start_time": "2020-01-22T20:46:43.072579Z"
    }
   },
   "outputs": [
    {
     "name": "stdout",
     "output_type": "stream",
     "text": [
      "Downloading section physics:quant-ph from 2018-01-01 to 2020-01-22\n",
      "fetching http://export.arxiv.org/oai2?verb=ListRecords&from=2018-01-01&until=2020-01-22&metadataPrefix=arXiv&set=physics:quant-ph\n",
      "fetching http://export.arxiv.org/oai2?verb=ListRecords&resumptionToken=4183400|1001\n",
      "fetching http://export.arxiv.org/oai2?verb=ListRecords&resumptionToken=4183400|2001\n",
      "fetching http://export.arxiv.org/oai2?verb=ListRecords&resumptionToken=4183400|3001\n",
      "fetching http://export.arxiv.org/oai2?verb=ListRecords&resumptionToken=4183400|4001\n",
      "fetching http://export.arxiv.org/oai2?verb=ListRecords&resumptionToken=4183400|5001\n",
      "fetching http://export.arxiv.org/oai2?verb=ListRecords&resumptionToken=4183400|6001\n",
      "fetching http://export.arxiv.org/oai2?verb=ListRecords&resumptionToken=4183400|7001\n",
      "fetching http://export.arxiv.org/oai2?verb=ListRecords&resumptionToken=4183400|8001\n",
      "fetching http://export.arxiv.org/oai2?verb=ListRecords&resumptionToken=4183400|9001\n",
      "fetching http://export.arxiv.org/oai2?verb=ListRecords&resumptionToken=4183400|10001\n",
      "fetching http://export.arxiv.org/oai2?verb=ListRecords&resumptionToken=4183400|11001\n",
      "fetching http://export.arxiv.org/oai2?verb=ListRecords&resumptionToken=4183400|12001\n",
      "fetching http://export.arxiv.org/oai2?verb=ListRecords&resumptionToken=4183400|13001\n",
      "fetching http://export.arxiv.org/oai2?verb=ListRecords&resumptionToken=4183400|14001\n",
      "fetching http://export.arxiv.org/oai2?verb=ListRecords&resumptionToken=4183400|15001\n",
      "fetching http://export.arxiv.org/oai2?verb=ListRecords&resumptionToken=4183400|16001\n",
      "fetching http://export.arxiv.org/oai2?verb=ListRecords&resumptionToken=4183400|17001\n",
      "fetching http://export.arxiv.org/oai2?verb=ListRecords&resumptionToken=4183400|18001\n",
      "fetching http://export.arxiv.org/oai2?verb=ListRecords&resumptionToken=4183400|19001\n",
      "fetching http://export.arxiv.org/oai2?verb=ListRecords&resumptionToken=4183400|20001\n"
     ]
    },
    {
     "data": {
      "text/html": [
       "<div>\n",
       "<style scoped>\n",
       "    .dataframe tbody tr th:only-of-type {\n",
       "        vertical-align: middle;\n",
       "    }\n",
       "\n",
       "    .dataframe tbody tr th {\n",
       "        vertical-align: top;\n",
       "    }\n",
       "\n",
       "    .dataframe thead th {\n",
       "        text-align: right;\n",
       "    }\n",
       "</style>\n",
       "<table border=\"1\" class=\"dataframe\">\n",
       "  <thead>\n",
       "    <tr style=\"text-align: right;\">\n",
       "      <th></th>\n",
       "      <th>title</th>\n",
       "      <th>abstract</th>\n",
       "      <th>categories</th>\n",
       "      <th>created</th>\n",
       "      <th>id</th>\n",
       "      <th>doi</th>\n",
       "    </tr>\n",
       "  </thead>\n",
       "  <tbody>\n",
       "    <tr>\n",
       "      <td>0</td>\n",
       "      <td>Geometric Phase and Superconducting Flux Quant...</td>\n",
       "      <td>In a ring of s-wave superconducting material t...</td>\n",
       "      <td>[quant-ph]</td>\n",
       "      <td>2007-04-05</td>\n",
       "      <td>0704.0803</td>\n",
       "      <td>None</td>\n",
       "    </tr>\n",
       "    <tr>\n",
       "      <td>1</td>\n",
       "      <td>Projective Hilbert space structures at excepti...</td>\n",
       "      <td>A non-Hermitian complex symmetric 2x2 matrix t...</td>\n",
       "      <td>[math-ph, cond-mat.other, math.MP, quant-ph]</td>\n",
       "      <td>2007-04-10</td>\n",
       "      <td>0704.1291</td>\n",
       "      <td>10.1088/1751-8113/40/30/014</td>\n",
       "    </tr>\n",
       "    <tr>\n",
       "      <td>2</td>\n",
       "      <td>A remark on helical waveguides</td>\n",
       "      <td>Motivated by a proposal to create an optical h...</td>\n",
       "      <td>[quant-ph, cond-mat.mes-hall, math-ph, math.MP]</td>\n",
       "      <td>2007-04-20</td>\n",
       "      <td>0704.2770</td>\n",
       "      <td>10.1016/j.physleta.2007.05.013</td>\n",
       "    </tr>\n",
       "    <tr>\n",
       "      <td>3</td>\n",
       "      <td>Nontrivial edge coupling from a Dirichlet netw...</td>\n",
       "      <td>In distinction to the Neumann case the squeezi...</td>\n",
       "      <td>[math-ph, cond-mat.mes-hall, math.MP, math.SP,...</td>\n",
       "      <td>2007-04-23</td>\n",
       "      <td>0704.2912</td>\n",
       "      <td>10.1088/1751-8113/40/26/F02</td>\n",
       "    </tr>\n",
       "    <tr>\n",
       "      <td>4</td>\n",
       "      <td>Smooth R\\'enyi Entropy of Ergodic Quantum Info...</td>\n",
       "      <td>We prove that the average smooth Renyi entropy...</td>\n",
       "      <td>[quant-ph, cs.IT, math.IT]</td>\n",
       "      <td>2007-04-26</td>\n",
       "      <td>0704.3504</td>\n",
       "      <td>None</td>\n",
       "    </tr>\n",
       "  </tbody>\n",
       "</table>\n",
       "</div>"
      ],
      "text/plain": [
       "                                               title  \\\n",
       "0  Geometric Phase and Superconducting Flux Quant...   \n",
       "1  Projective Hilbert space structures at excepti...   \n",
       "2                     A remark on helical waveguides   \n",
       "3  Nontrivial edge coupling from a Dirichlet netw...   \n",
       "4  Smooth R\\'enyi Entropy of Ergodic Quantum Info...   \n",
       "\n",
       "                                            abstract  \\\n",
       "0  In a ring of s-wave superconducting material t...   \n",
       "1  A non-Hermitian complex symmetric 2x2 matrix t...   \n",
       "2  Motivated by a proposal to create an optical h...   \n",
       "3  In distinction to the Neumann case the squeezi...   \n",
       "4  We prove that the average smooth Renyi entropy...   \n",
       "\n",
       "                                          categories    created         id  \\\n",
       "0                                         [quant-ph] 2007-04-05  0704.0803   \n",
       "1       [math-ph, cond-mat.other, math.MP, quant-ph] 2007-04-10  0704.1291   \n",
       "2    [quant-ph, cond-mat.mes-hall, math-ph, math.MP] 2007-04-20  0704.2770   \n",
       "3  [math-ph, cond-mat.mes-hall, math.MP, math.SP,... 2007-04-23  0704.2912   \n",
       "4                         [quant-ph, cs.IT, math.IT] 2007-04-26  0704.3504   \n",
       "\n",
       "                              doi  \n",
       "0                            None  \n",
       "1     10.1088/1751-8113/40/30/014  \n",
       "2  10.1016/j.physleta.2007.05.013  \n",
       "3     10.1088/1751-8113/40/26/F02  \n",
       "4                            None  "
      ]
     },
     "execution_count": 6,
     "metadata": {},
     "output_type": "execute_result"
    }
   ],
   "source": [
    "df = harvest(arxiv=\"physics:quant-ph\",start_date=start_date[0],end_date=today[0])\n",
    "df.to_csv(\"ArXiv.csv\",index=False)\n",
    "df.head()"
   ]
  },
  {
   "cell_type": "code",
   "execution_count": 9,
   "metadata": {
    "ExecuteTime": {
     "end_time": "2020-01-22T20:55:07.284625Z",
     "start_time": "2020-01-22T20:55:06.653189Z"
    }
   },
   "outputs": [
    {
     "data": {
      "image/png": "[encoded data removed]",
      "text/plain": [
       "<Figure size 576x576 with 1 Axes>"
      ]
     },
     "metadata": {
      "needs_background": "light"
     },
     "output_type": "display_data"
    },
    {
     "name": "stdout",
     "output_type": "stream",
     "text": [
      "Unique arXiv IDs edited between 2018 and 2020: 20980\n",
      "of which 16143 entries were created in that time period.\n"
     ]
    }
   ],
   "source": [
    "def bar_chart(items):\n",
    "    \"\"\"Make a bar chart showing the count associated with each key\n",
    "    \n",
    "    `items` is a list of (key, count) pairs.\n",
    "    \"\"\"\n",
    "    width = 0.5\n",
    "    ind = np.arange(len(items))\n",
    "    fig, ax = plt.subplots(figsize=(8,8))\n",
    "    rects1 = ax.bar(ind, items.values(), width, color='r')\n",
    "    ax.set_xticks(ind+width)\n",
    "    ax.set_xticklabels(items.keys())\n",
    "    fig.autofmt_xdate()\n",
    "    plt.show()\n",
    "\n",
    "edits_per_year = Counter(df.created.map(lambda x: x.year))\n",
    "bar_chart(edits_per_year)\n",
    "years=list(range(int(start_date[1].year),int(today[1].year)+1))\n",
    "new_articles = sum(edits_per_year[year] for year in years)\n",
    "print (f\"Unique arXiv IDs edited between {years[0]} and {years[-1]}: {len(df.id.unique())}\")\n",
    "print (\"of which %i entries were created in that time period.\"%(new_articles))"
   ]
  },
  {
   "cell_type": "code",
   "execution_count": null,
   "metadata": {},
   "outputs": [],
   "source": [
    "# df[df.created<datetime.date(2019,1,1)]"
   ]
  },
  {
   "cell_type": "code",
   "execution_count": null,
   "metadata": {},
   "outputs": [],
   "source": [
    "# len(df.id)"
   ]
  },
  {
   "cell_type": "code",
   "execution_count": null,
   "metadata": {},
   "outputs": [],
   "source": [
    "def get_cites(arxiv_id):\n",
    "    cites = []\n",
    "    base_url = \"http://inspirehep.net/search?p=refersto:%s&of=hx&rg=250&jrec=%i\"\n",
    "    offset = 1\n",
    "    \n",
    "    while True:\n",
    "        print (base_url%(arxiv_id, offset))\n",
    "        response = urllib2.urlopen(base_url%(arxiv_id, offset))\n",
    "        xml = response.read()\n",
    "        soup = BeautifulSoup(xml)\n",
    "\n",
    "        refs = \"\\n\".join(cite.get_text() for cite in soup.findAll(\"pre\"))\n",
    "#         with open(\"refs.txt\",\"w+\") as refs_file:\n",
    "#             refs_file.write(refs)\n",
    "        if len(refs)>0:\n",
    "            bib_database = bibtexparser.loads(refs)\n",
    "        else:\n",
    "            continue\n",
    "        if len(bib_database.entries)>0:\n",
    "            cites += bib_database.entries\n",
    "            offset += 250\n",
    "        else:\n",
    "            break\n",
    "\n",
    "    return cites\n",
    "\n",
    "# step = 1000\n",
    "# lim=len(df.id)\n",
    "# for N in range(0,20):\n",
    "#     print (N)\n",
    "#     cites = df['id'][N*step:min((N+1)*step,lim)].map(get_cites)\n",
    "#     print(cites)\n",
    "#     df.ix[N*step:(N+1)*step -1,'cited_by'] = cites\n",
    "#     print(\"-\"*100)"
   ]
  },
  {
   "cell_type": "code",
   "execution_count": null,
   "metadata": {},
   "outputs": [],
   "source": [
    "# save file here"
   ]
  },
  {
   "cell_type": "code",
   "execution_count": 10,
   "metadata": {
    "ExecuteTime": {
     "end_time": "2020-01-22T20:55:17.451923Z",
     "start_time": "2020-01-22T20:55:16.795424Z"
    }
   },
   "outputs": [
    {
     "data": {
      "text/plain": [
       "[('the', 211613),\n",
       " ('of', 134333),\n",
       " ('a', 85705),\n",
       " ('and', 67994),\n",
       " ('in', 65801),\n",
       " ('to', 60866),\n",
       " ('we', 52664),\n",
       " ('quantum', 48509),\n",
       " ('is', 40375),\n",
       " ('for', 36939)]"
      ]
     },
     "execution_count": 10,
     "metadata": {},
     "output_type": "execute_result"
    }
   ],
   "source": [
    "word_bag = \" \".join(df.abstract.apply(lambda t: t.lower()))\n",
    "Counter(word_bag.split()).most_common(n=10)"
   ]
  },
  {
   "cell_type": "code",
   "execution_count": 13,
   "metadata": {
    "ExecuteTime": {
     "end_time": "2020-01-22T20:56:50.430819Z",
     "start_time": "2020-01-22T20:56:46.101570Z"
    }
   },
   "outputs": [
    {
     "name": "stdout",
     "output_type": "stream",
     "text": [
      "{'quantum': 48509, 'states': 8953, 'state': 8935, 'show': 8854, 'system': 7027, 'using': 6852, 'classical': 6045, 'entanglement': 5738, 'results': 4978, 'systems': 4656, 'information': 4605, 'phase': 4528, 'model': 4478, 'time': 4460, 'study': 4389, 'based': 4328, 'field': 4088, 'number': 4017, 'spin': 3921, 'different': 3852}\n"
     ]
    },
    {
     "data": {
      "image/png": "[encoded data removed]",
      "text/plain": [
       "<Figure size 576x576 with 1 Axes>"
      ]
     },
     "metadata": {
      "needs_background": "light"
     },
     "output_type": "display_data"
    }
   ],
   "source": [
    "stops = [word for word in stopwords.words('english')]\n",
    "stops += [\"=\", \"->\",\"one\",\"two\",\"also\"]\n",
    "words = filter(lambda w: w not in stops,word_bag.split())\n",
    "top_twenty = {l[0]:l[1] for l in Counter(words).most_common(n=20)}\n",
    "print(top_twenty)\n",
    "bar_chart(top_twenty)"
   ]
  },
  {
   "cell_type": "code",
   "execution_count": 14,
   "metadata": {
    "ExecuteTime": {
     "end_time": "2020-01-22T20:56:50.451761Z",
     "start_time": "2020-01-22T20:56:50.446791Z"
    }
   },
   "outputs": [
    {
     "name": "stdout",
     "output_type": "stream",
     "text": [
      "measurement -> measur\n",
      "measurements -> measur\n",
      "measured -> measur\n",
      "measure -> measur\n"
     ]
    }
   ],
   "source": [
    "porter = stem.PorterStemmer()\n",
    "for w in (\"measurement\", \"measurements\", \"measured\", \"measure\"):\n",
    "    print (w, \"->\", porter.stem(w))"
   ]
  },
  {
   "cell_type": "code",
   "execution_count": 15,
   "metadata": {
    "ExecuteTime": {
     "end_time": "2020-01-22T20:57:01.485367Z",
     "start_time": "2020-01-22T20:56:57.562662Z"
    }
   },
   "outputs": [],
   "source": [
    "words=list(filter(lambda w: w not in stops,word_bag.split()))"
   ]
  },
  {
   "cell_type": "code",
   "execution_count": 16,
   "metadata": {
    "ExecuteTime": {
     "end_time": "2020-01-22T20:57:31.443681Z",
     "start_time": "2020-01-22T20:57:01.656909Z"
    }
   },
   "outputs": [
    {
     "data": {
      "image/png": "[encoded data removed]",
      "text/plain": [
       "<Figure size 576x576 with 1 Axes>"
      ]
     },
     "metadata": {
      "needs_background": "light"
     },
     "output_type": "display_data"
    },
    {
     "name": "stdout",
     "output_type": "stream",
     "text": [
      "quantum <- quantum, quantumness, quantumnesses, quantums\n",
      "state <- states, state, stated, stating, stateful\n",
      "use <- used, usefulness, using, use, useful, uses, usefully\n",
      "system <- system, systems\n",
      "show <- show, showing, showed, shows\n",
      "gener <- generically, general, generalized, generated, generation, generalizing, generalize, generic, generate, generally, generalization, generations, generating, generates, generalizes, generators, generalizations, generator, generality, generative, genericity\n",
      "measur <- measure, measured, measurements, measurement, measures, measurability, measurable, measuring, measurment, measurer, measureable, measurably\n",
      "entangl <- entanglement, entangled, entangling, entangle, entangler, entanglers, entanglment, entanglements, entangles, entangleable\n",
      "result <- result, resulting, results, resultant, resulted\n",
      "model <- model, models, modeled, modelled, modeling, modelling\n",
      "classic <- classical, classically, classicality, classic, classicalization, classicalizing, classicalized\n",
      "studi <- study, studied, studies, studying\n",
      "dynam <- dynamics, dynamically, dynamical, dynamic, dynamicity\n",
      "photon <- photons, photon, photonic, photonics\n",
      "interact <- interaction, interacting, interact, interactions, interacts, interactive, interacted, interactively, interactivity\n",
      "phase <- phase, phases, phased\n",
      "coupl <- coupling, coupled, couplings, couple, couples\n",
      "field <- field, fields\n",
      "time <- time, times, timely, timing, timings, timed\n",
      "effect <- effect, effective, effects, effectively, effectiveness, effected, effecting, effectivity\n"
     ]
    }
   ],
   "source": [
    "word_stems = [(porter.stem(w),w) for w in words]\n",
    "# print(word_stems)\n",
    "stem2words = {}\n",
    "for _ in word_stems:\n",
    "    stem, word = _[0],_[1]\n",
    "    if stem not in stem2words.keys():\n",
    "        stem2words[stem]=[word]\n",
    "    else:\n",
    "        if word not in stem2words[stem]:\n",
    "            stem2words[stem].append(word)\n",
    "        else:\n",
    "            continue\n",
    "# print(stem2words)\n",
    "top_twenty = {l[0]:l[1] for l in Counter(w[0] for w in word_stems).most_common(n=20)}\n",
    "# print(top_twenty)\n",
    "bar_chart(top_twenty)\n",
    "\n",
    "# list all words which correspond to each top twenty stem\n",
    "for stem,count in top_twenty.items():\n",
    "    print (stem, \"<-\", \", \".join(stem2words[stem]))"
   ]
  },
  {
   "cell_type": "code",
   "execution_count": null,
   "metadata": {},
   "outputs": [],
   "source": [
    "# before_2019 = datetime.datetime(2019,1,1)\n",
    "# plt.hist(df[df.created<before_2019].cited_by.map(len),bins=200, normed=True, range=(0,200))\n",
    "# plt.xlabel(\"Number of citations\")\n",
    "# plt.ylabel(\"Fraction\")"
   ]
  },
  {
   "cell_type": "code",
   "execution_count": null,
   "metadata": {},
   "outputs": [],
   "source": [
    "# df['citation_count'] = df.cited_by.map(len)\n",
    "# df[df.created<before_2019]['citation_count'].describe()"
   ]
  },
  {
   "cell_type": "code",
   "execution_count": null,
   "metadata": {},
   "outputs": [],
   "source": [
    "# df.iloc[df.citation_count.idxmax()]"
   ]
  },
  {
   "cell_type": "code",
   "execution_count": null,
   "metadata": {},
   "outputs": [],
   "source": [
    "# df.sort('citation_count', ascending=False).head(10)"
   ]
  },
  {
   "cell_type": "code",
   "execution_count": null,
   "metadata": {},
   "outputs": [],
   "source": [
    "# df.iloc[df[df.created>before_2019].citation_count.idxmax()]"
   ]
  },
  {
   "cell_type": "code",
   "execution_count": null,
   "metadata": {},
   "outputs": [],
   "source": []
  },
  {
   "cell_type": "code",
   "execution_count": null,
   "metadata": {},
   "outputs": [],
   "source": []
  },
  {
   "cell_type": "code",
   "execution_count": null,
   "metadata": {},
   "outputs": [],
   "source": []
  },
  {
   "cell_type": "code",
   "execution_count": 18,
   "metadata": {
    "ExecuteTime": {
     "end_time": "2020-01-22T20:58:18.482410Z",
     "start_time": "2020-01-22T20:58:18.253983Z"
    }
   },
   "outputs": [],
   "source": [
    "del words, word_stems, stem2words"
   ]
  },
  {
   "cell_type": "code",
   "execution_count": null,
   "metadata": {},
   "outputs": [],
   "source": [
    "##########################end of first notebook https://nbviewer.jupyter.org/url/betatim.github.io//downloads/notebooks/arXiv.ipynb"
   ]
  },
  {
   "cell_type": "code",
   "execution_count": null,
   "metadata": {},
   "outputs": [],
   "source": [
    "#next notebook here : https://www.kaggle.com/ab971631/beginners-guide-to-text-generation-pytorch"
   ]
  },
  {
   "cell_type": "code",
   "execution_count": 17,
   "metadata": {
    "ExecuteTime": {
     "end_time": "2020-01-22T20:57:32.343582Z",
     "start_time": "2020-01-22T20:57:32.339574Z"
    }
   },
   "outputs": [
    {
     "name": "stdout",
     "output_type": "stream",
     "text": [
      "No GPU available, training on CPU; consider making n_epochs very small.\n"
     ]
    }
   ],
   "source": [
    "# Check if GPU is available\n",
    "train_on_gpu = torch.cuda.is_available()\n",
    "if(train_on_gpu):\n",
    "    print('Training on GPU!')\n",
    "else: \n",
    "    print('No GPU available, training on CPU; consider making n_epochs very small.')"
   ]
  },
  {
   "cell_type": "code",
   "execution_count": 19,
   "metadata": {
    "ExecuteTime": {
     "end_time": "2020-01-22T20:58:25.190970Z",
     "start_time": "2020-01-22T20:58:25.161042Z"
    }
   },
   "outputs": [
    {
     "name": "stdout",
     "output_type": "stream",
     "text": [
      "Geometric Phase and Superconducting Flux Quantization\n"
     ]
    },
    {
     "data": {
      "text/plain": [
       "194519"
      ]
     },
     "execution_count": 19,
     "metadata": {},
     "output_type": "execute_result"
    }
   ],
   "source": [
    "text_title = list(df.title)\n",
    "print(text_title[0])\n",
    "def joinStrings(text):\n",
    "    return ' '.join(string for string in text)\n",
    "text_title = joinStrings(text_title)\n",
    "len(text_title.split())"
   ]
  },
  {
   "cell_type": "code",
   "execution_count": 20,
   "metadata": {
    "ExecuteTime": {
     "end_time": "2020-01-22T20:58:30.183770Z",
     "start_time": "2020-01-22T20:58:29.862775Z"
    }
   },
   "outputs": [
    {
     "name": "stdout",
     "output_type": "stream",
     "text": [
      "In a ring of s-wave superconducting material the magnetic flux is quantized in units of $\\Phi_0 = \\frac{h}{2e}$. It is well known from the theory of Josephson junctions that if the ring is interrupted with a piece of d-wave material, then the flux is quantized in one-half of those units due to a additional phase shift of $\\pi$. We reinterpret this phenomenon in terms of geometric phase.   We consider an idealized hetero-junction superconductor with pure s-wave and pure d-wave electron pairs. We find, for this idealized configuration, that the phase shift of $\\pi$ follows from the discontinuity in the geometric phase and is thus a fundamental consequence of quantum mechanics.\n"
     ]
    },
    {
     "data": {
      "text/plain": [
       "2958112"
      ]
     },
     "execution_count": 20,
     "metadata": {},
     "output_type": "execute_result"
    }
   ],
   "source": [
    "text_abst=list(df.abstract)\n",
    "text_abstract=[s.replace(\"\\n\",\" \") for s in text_abst]\n",
    "print(text_abstract[0])\n",
    "text_abstract = joinStrings(text_abstract)\n",
    "len(text_abstract.split())\n",
    "del text_abstract, text_abst"
   ]
  },
  {
   "cell_type": "code",
   "execution_count": 23,
   "metadata": {
    "ExecuteTime": {
     "end_time": "2020-01-22T20:59:59.665311Z",
     "start_time": "2020-01-22T20:59:49.794158Z"
    }
   },
   "outputs": [],
   "source": [
    "stop = set(stopwords.words('english'))\n",
    "exclude = set(string.punctuation) \n",
    "lemma = stem.wordnet.WordNetLemmatizer()\n",
    "def clean(doc):\n",
    "        stop_free = \" \".join([i for i in doc.split() if i not in stop])\n",
    "        punc_free = \"\".join(ch for ch in stop_free if ch not in exclude)\n",
    "        normalized = \" \".join(lemma.lemmatize(word) for word in punc_free.split())\n",
    "        return normalized\n",
    "# test_sentence = clean(text_abstract).lower().split()\n",
    "test_sentence = clean(text_title).lower().split()"
   ]
  },
  {
   "cell_type": "code",
   "execution_count": null,
   "metadata": {
    "ExecuteTime": {
     "start_time": "2020-01-23T06:02:42.531Z"
    }
   },
   "outputs": [],
   "source": [
    "n=3 #for title n=3, rather 5 for abstract\n",
    "ngrams = [([test_sentence[i+j] for j in range(n-1)], test_sentence[i + n-1])\n",
    "            for i in range(len(test_sentence) - (n-1))]\n",
    "chunk_len=len(ngrams)\n",
    "print(ngrams[:3])"
   ]
  },
  {
   "cell_type": "code",
   "execution_count": null,
   "metadata": {
    "ExecuteTime": {
     "start_time": "2020-01-23T06:03:00.691Z"
    }
   },
   "outputs": [],
   "source": [
    "vocab = set(test_sentence) #careful !!!! in future include all words of titles + abstracts\n",
    "voc_len=len(vocab)\n",
    "word_to_ix = {word: i for i, word in enumerate(vocab)}\n",
    "inp=[]\n",
    "tar=[]\n",
    "for context, target in ngrams:\n",
    "        context_idxs = torch.tensor([word_to_ix[w] for w in context], dtype=torch.long)\n",
    "        inp.append(context_idxs)\n",
    "        targ = torch.tensor([word_to_ix[target]], dtype=torch.long)\n",
    "        tar.append(targ)"
   ]
  },
  {
   "cell_type": "code",
   "execution_count": null,
   "metadata": {
    "ExecuteTime": {
     "start_time": "2020-01-23T06:03:05.180Z"
    }
   },
   "outputs": [],
   "source": [
    "import torch\n",
    "import torch.nn as nn\n",
    "from torch.autograd import Variable\n",
    "\n",
    "class RNN(nn.Module):\n",
    "    def __init__(self, input_size, hidden_size, output_size, n_layers=1):\n",
    "        super(RNN, self).__init__()\n",
    "        self.input_size = input_size\n",
    "        self.hidden_size = hidden_size\n",
    "        self.output_size = output_size\n",
    "        self.n_layers = n_layers\n",
    "        \n",
    "        self.encoder = nn.Embedding(input_size, hidden_size)\n",
    "        self.gru = nn.GRU(hidden_size*(n-1), hidden_size, n_layers, batch_first=True,bidirectional=False)\n",
    "        self.decoder = nn.Linear(hidden_size, output_size)\n",
    "    \n",
    "    def forward(self, inpt, hidden):\n",
    "        inpt = self.encoder(inpt.view(1, -1))\n",
    "        output, hidden = self.gru(inpt.view(1, 1, -1), hidden)\n",
    "        output = self.decoder(output.view(1, -1))\n",
    "        return output, hidden\n",
    "\n",
    "    def init_hidden(self):\n",
    "        return Variable(torch.zeros(self.n_layers, 1, self.hidden_size))"
   ]
  },
  {
   "cell_type": "code",
   "execution_count": null,
   "metadata": {
    "ExecuteTime": {
     "start_time": "2020-01-23T06:03:08.109Z"
    }
   },
   "outputs": [],
   "source": [
    "def train(inp, target):\n",
    "    if train_on_gpu :\n",
    "        hidden = decoder.init_hidden().cuda()\n",
    "    else:\n",
    "        hidden = decoder.init_hidden()\n",
    "    decoder.zero_grad()\n",
    "    loss = 0\n",
    "    \n",
    "    for c in range(chunk_len):\n",
    "        if train_on_gpu :\n",
    "            inp[c]=inp[c].cuda()\n",
    "            target[c] = target[c].cuda()\n",
    "        output, hidden = decoder(inp[c], hidden)\n",
    "        loss += criterion(output, target[c])\n",
    "\n",
    "    loss.backward()\n",
    "    decoder_optimizer.step()\n",
    "\n",
    "    return loss.data.item() / chunk_len"
   ]
  },
  {
   "cell_type": "code",
   "execution_count": 28,
   "metadata": {
    "ExecuteTime": {
     "end_time": "2020-01-22T21:06:03.076619Z",
     "start_time": "2020-01-22T21:06:03.056337Z"
    }
   },
   "outputs": [],
   "source": [
    "def time_since(since):\n",
    "    s = time.time() - since\n",
    "    m = math.floor(s / 60)\n",
    "    s -= m * 60\n",
    "    return '%dm %ds' % (m, s)"
   ]
  },
  {
   "cell_type": "code",
   "execution_count": null,
   "metadata": {
    "ExecuteTime": {
     "start_time": "2020-01-23T06:03:12.430Z"
    }
   },
   "outputs": [],
   "source": [
    "n_epochs = 5 #300\n",
    "print_every = 1 #100\n",
    "plot_every = 1 #10\n",
    "hidden_size = 10 #100\n",
    "n_layers = 1\n",
    "lr = 0.015\n",
    "torch.cuda.empty_cache()\n",
    "decoder = RNN(voc_len, hidden_size, voc_len, n_layers)\n",
    "decoder_optimizer = torch.optim.Adam(decoder.parameters(), lr=lr)\n",
    "criterion = nn.CrossEntropyLoss()\n",
    "\n",
    "start = time.time()\n",
    "all_losses = []\n",
    "loss_avg = 0\n",
    "if train_on_gpu :\n",
    "    decoder.cuda()\n",
    "for epoch in range(1, n_epochs + 1):\n",
    "    loss = train(inp,tar)       \n",
    "    loss_avg += loss\n",
    "\n",
    "    if epoch % print_every == 0:\n",
    "        print('[%s (%d %d%%) %.4f]' % (time_since(start), epoch, epoch / n_epochs * 50, loss))\n",
    "#         print(evaluate('ge', 200), '\\n')\n",
    "\n",
    "    if epoch % plot_every == 0:\n",
    "        all_losses.append(loss_avg / plot_every)\n",
    "        loss_avg = 0"
   ]
  },
  {
   "cell_type": "code",
   "execution_count": null,
   "metadata": {},
   "outputs": [],
   "source": [
    "import matplotlib.pyplot as plt\n",
    "import matplotlib.ticker as ticker\n",
    "%matplotlib inline\n",
    "\n",
    "plt.figure()\n",
    "plt.plot(all_losses)\n",
    "plt.show()"
   ]
  },
  {
   "cell_type": "code",
   "execution_count": null,
   "metadata": {},
   "outputs": [],
   "source": [
    "def evaluate(prime_str='this process', predict_len=100, temperature=0.8):\n",
    "    if train_on_gpu :\n",
    "        hidden = decoder.init_hidden().cuda()\n",
    "\n",
    "    for p in range(predict_len):\n",
    "        \n",
    "        prime_input = torch.tensor([word_to_ix[w] for w in prime_str.split()], dtype=torch.long).cuda()\n",
    "        inp = prime_input[-2:] #last two words as input\n",
    "        output, hidden = decoder(inp, hidden)\n",
    "        \n",
    "        # Sample from the network as a multinomial distribution\n",
    "        output_dist = output.data.view(-1).div(temperature).exp()\n",
    "        top_i = torch.multinomial(output_dist, 1)[0]\n",
    "        \n",
    "        # Add predicted word to string and use as next input\n",
    "        predicted_word = list(word_to_ix.keys())[list(word_to_ix.values()).index(top_i)]\n",
    "        prime_str += \" \" + predicted_word\n",
    "#         inp = torch.tensor(word_to_ix[predicted_word], dtype=torch.long)\n",
    "\n",
    "    return prime_str"
   ]
  },
  {
   "cell_type": "code",
   "execution_count": null,
   "metadata": {},
   "outputs": [],
   "source": [
    "print(evaluate('A Quantum', 10, temperature=1))"
   ]
  }
 ],
 "metadata": {
  "kernelspec": {
   "display_name": "Python 3",
   "language": "python",
   "name": "python3"
  },
  "language_info": {
   "codemirror_mode": {
    "name": "ipython",
    "version": 3
   },
   "file_extension": ".py",
   "mimetype": "text/x-python",
   "name": "python",
   "nbconvert_exporter": "python",
   "pygments_lexer": "ipython3",
   "version": "3.7.4"
  },
  "latex_envs": {
   "LaTeX_envs_menu_present": true,
   "autoclose": false,
   "autocomplete": true,
   "bibliofile": "biblio.bib",
   "cite_by": "apalike",
   "current_citInitial": 1,
   "eqLabelWithNumbers": true,
   "eqNumInitial": 1,
   "hotkeys": {
    "equation": "Ctrl-E",
    "itemize": "Ctrl-I"
   },
   "labels_anchors": false,
   "latex_user_defs": false,
   "report_style_numbering": false,
   "user_envs_cfg": false
  },
  "toc": {
   "base_numbering": 1,
   "nav_menu": {},
   "number_sections": true,
   "sideBar": true,
   "skip_h1_title": false,
   "title_cell": "Table of Contents",
   "title_sidebar": "Contents",
   "toc_cell": false,
   "toc_position": {},
   "toc_section_display": true,
   "toc_window_display": false
  },
  "varInspector": {
   "cols": {
    "lenName": 16,
    "lenType": 16,
    "lenVar": 40
   },
   "kernels_config": {
    "python": {
     "delete_cmd_postfix": "",
     "delete_cmd_prefix": "del ",
     "library": "var_list.py",
     "varRefreshCmd": "print(var_dic_list())"
    },
    "r": {
     "delete_cmd_postfix": ") ",
     "delete_cmd_prefix": "rm(",
     "library": "var_list.r",
     "varRefreshCmd": "cat(var_dic_list()) "
    }
   },
   "types_to_exclude": [
    "module",
    "function",
    "builtin_function_or_method",
    "instance",
    "_Feature"
   ],
   "window_display": false
  }
 },
 "nbformat": 4,
 "nbformat_minor": 1
}
