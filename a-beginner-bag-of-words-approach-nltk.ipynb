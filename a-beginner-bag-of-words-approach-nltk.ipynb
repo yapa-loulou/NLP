{
 "cells": [
  {
   "cell_type": "markdown",
   "metadata": {},
   "source": [
    "# An all-nltk basic approach"
   ]
  },
  {
   "cell_type": "markdown",
   "metadata": {},
   "source": [
    "In this notebook I will present an all-nltk very basic approach to the problem. It is not as well performing as neural-net based models, but it can ve a good starting point for beginners to grasp what is happening."
   ]
  },
  {
   "cell_type": "code",
   "execution_count": 1,
   "metadata": {
    "_cell_guid": "b1076dfc-b9ad-4769-8c92-a6c4dae69d19",
    "_uuid": "8f2839f25d086af736a60e9eeb907d3b93b6e0e5"
   },
   "outputs": [
    {
     "name": "stdout",
     "output_type": "stream",
     "text": [
      "/kaggle/input/tweet-sentiment-extraction/train.csv\n",
      "/kaggle/input/tweet-sentiment-extraction/test.csv\n",
      "/kaggle/input/tweet-sentiment-extraction/sample_submission.csv\n"
     ]
    }
   ],
   "source": [
    "# This Python 3 environment comes with many helpful analytics libraries installed\n",
    "# It is defined by the kaggle/python Docker image: https://github.com/kaggle/docker-python\n",
    "# For example, here's several helpful packages to load\n",
    "\n",
    "import numpy as np # linear algebra\n",
    "import pandas as pd # data processing, CSV file I/O (e.g. pd.read_csv)\n",
    "import nltk\n",
    "# Input data files are available in the read-only \"../input/\" directory\n",
    "# For example, running this (by clicking run or pressing Shift+Enter) will list all files under the input directory\n",
    "\n",
    "import os\n",
    "for dirname, _, filenames in os.walk('/kaggle/input'):\n",
    "    for filename in filenames:\n",
    "        print(os.path.join(dirname, filename))\n",
    "\n",
    "# You can write up to 5GB to the current directory (/kaggle/working/) that gets preserved as output when you create a version using \"Save & Run All\" \n",
    "# You can also write temporary files to /kaggle/temp/, but they won't be saved outside of the current session"
   ]
  },
  {
   "cell_type": "markdown",
   "metadata": {},
   "source": [
    "The metrics used for evaluation is, as defined in the evaluation rules :"
   ]
  },
  {
   "cell_type": "code",
   "execution_count": 2,
   "metadata": {},
   "outputs": [],
   "source": [
    "def jaccard(str1, str2): \n",
    "    str1, str2 = str(str1), str(str2)\n",
    "    a = set(str1.lower().split()) \n",
    "    b = set(str2.lower().split())\n",
    "    c = a.intersection(b)\n",
    "    return float(len(c)) / (len(a) + len(b) - len(c))"
   ]
  },
  {
   "cell_type": "markdown",
   "metadata": {},
   "source": [
    "Let's load our data."
   ]
  },
  {
   "cell_type": "code",
   "execution_count": 3,
   "metadata": {},
   "outputs": [],
   "source": [
    "train = pd.read_csv(\"/kaggle/input/tweet-sentiment-extraction/train.csv\")\n",
    "test = pd.read_csv(\"/kaggle/input/tweet-sentiment-extraction/test.csv\")\n",
    "sample_submission = pd.read_csv(\"/kaggle/input/tweet-sentiment-extraction/sample_submission.csv\")"
   ]
  },
  {
   "cell_type": "code",
   "execution_count": 4,
   "metadata": {},
   "outputs": [
    {
     "data": {
      "text/html": [
       "<div>\n",
       "<style scoped>\n",
       "    .dataframe tbody tr th:only-of-type {\n",
       "        vertical-align: middle;\n",
       "    }\n",
       "\n",
       "    .dataframe tbody tr th {\n",
       "        vertical-align: top;\n",
       "    }\n",
       "\n",
       "    .dataframe thead th {\n",
       "        text-align: right;\n",
       "    }\n",
       "</style>\n",
       "<table border=\"1\" class=\"dataframe\">\n",
       "  <thead>\n",
       "    <tr style=\"text-align: right;\">\n",
       "      <th></th>\n",
       "      <th>textID</th>\n",
       "      <th>text</th>\n",
       "      <th>selected_text</th>\n",
       "      <th>sentiment</th>\n",
       "    </tr>\n",
       "  </thead>\n",
       "  <tbody>\n",
       "    <tr>\n",
       "      <th>0</th>\n",
       "      <td>cb774db0d1</td>\n",
       "      <td>I`d have responded, if I were going</td>\n",
       "      <td>I`d have responded, if I were going</td>\n",
       "      <td>neutral</td>\n",
       "    </tr>\n",
       "    <tr>\n",
       "      <th>1</th>\n",
       "      <td>549e992a42</td>\n",
       "      <td>Sooo SAD I will miss you here in San Diego!!!</td>\n",
       "      <td>Sooo SAD</td>\n",
       "      <td>negative</td>\n",
       "    </tr>\n",
       "    <tr>\n",
       "      <th>2</th>\n",
       "      <td>088c60f138</td>\n",
       "      <td>my boss is bullying me...</td>\n",
       "      <td>bullying me</td>\n",
       "      <td>negative</td>\n",
       "    </tr>\n",
       "    <tr>\n",
       "      <th>3</th>\n",
       "      <td>9642c003ef</td>\n",
       "      <td>what interview! leave me alone</td>\n",
       "      <td>leave me alone</td>\n",
       "      <td>negative</td>\n",
       "    </tr>\n",
       "    <tr>\n",
       "      <th>4</th>\n",
       "      <td>358bd9e861</td>\n",
       "      <td>Sons of ****, why couldn`t they put them on t...</td>\n",
       "      <td>Sons of ****,</td>\n",
       "      <td>negative</td>\n",
       "    </tr>\n",
       "  </tbody>\n",
       "</table>\n",
       "</div>"
      ],
      "text/plain": [
       "       textID                                               text  \\\n",
       "0  cb774db0d1                I`d have responded, if I were going   \n",
       "1  549e992a42      Sooo SAD I will miss you here in San Diego!!!   \n",
       "2  088c60f138                          my boss is bullying me...   \n",
       "3  9642c003ef                     what interview! leave me alone   \n",
       "4  358bd9e861   Sons of ****, why couldn`t they put them on t...   \n",
       "\n",
       "                         selected_text sentiment  \n",
       "0  I`d have responded, if I were going   neutral  \n",
       "1                             Sooo SAD  negative  \n",
       "2                          bullying me  negative  \n",
       "3                       leave me alone  negative  \n",
       "4                        Sons of ****,  negative  "
      ]
     },
     "execution_count": 4,
     "metadata": {},
     "output_type": "execute_result"
    }
   ],
   "source": [
    "train.head()"
   ]
  },
  {
   "cell_type": "markdown",
   "metadata": {},
   "source": [
    "We notice that for neutral sentiment, the selected text is nearly always the text itself. Let's check it :"
   ]
  },
  {
   "cell_type": "code",
   "execution_count": 5,
   "metadata": {},
   "outputs": [
    {
     "data": {
      "text/plain": [
       "0.9764467881939698"
      ]
     },
     "execution_count": 5,
     "metadata": {},
     "output_type": "execute_result"
    }
   ],
   "source": [
    "v1 = train.loc[train.sentiment=='neutral', 'text'].values.tolist()\n",
    "v2 = train.loc[train.sentiment=='neutral', 'selected_text'].values.tolist()\n",
    "np.mean([jaccard(w1, w2) for w1, w2 in zip(v1, v2)])"
   ]
  },
  {
   "cell_type": "markdown",
   "metadata": {},
   "source": [
    "Therefore, for the test, it seems a good strategy to return the text itself for neutral sentiment."
   ]
  },
  {
   "cell_type": "code",
   "execution_count": 6,
   "metadata": {},
   "outputs": [
    {
     "data": {
      "text/html": [
       "<div>\n",
       "<style scoped>\n",
       "    .dataframe tbody tr th:only-of-type {\n",
       "        vertical-align: middle;\n",
       "    }\n",
       "\n",
       "    .dataframe tbody tr th {\n",
       "        vertical-align: top;\n",
       "    }\n",
       "\n",
       "    .dataframe thead th {\n",
       "        text-align: right;\n",
       "    }\n",
       "</style>\n",
       "<table border=\"1\" class=\"dataframe\">\n",
       "  <thead>\n",
       "    <tr style=\"text-align: right;\">\n",
       "      <th></th>\n",
       "      <th>textID</th>\n",
       "      <th>text</th>\n",
       "      <th>sentiment</th>\n",
       "    </tr>\n",
       "  </thead>\n",
       "  <tbody>\n",
       "    <tr>\n",
       "      <th>0</th>\n",
       "      <td>f87dea47db</td>\n",
       "      <td>Last session of the day  http://twitpic.com/67ezh</td>\n",
       "      <td>neutral</td>\n",
       "    </tr>\n",
       "    <tr>\n",
       "      <th>1</th>\n",
       "      <td>96d74cb729</td>\n",
       "      <td>Shanghai is also really exciting (precisely -...</td>\n",
       "      <td>positive</td>\n",
       "    </tr>\n",
       "    <tr>\n",
       "      <th>2</th>\n",
       "      <td>eee518ae67</td>\n",
       "      <td>Recession hit Veronique Branquinho, she has to...</td>\n",
       "      <td>negative</td>\n",
       "    </tr>\n",
       "    <tr>\n",
       "      <th>3</th>\n",
       "      <td>01082688c6</td>\n",
       "      <td>happy bday!</td>\n",
       "      <td>positive</td>\n",
       "    </tr>\n",
       "    <tr>\n",
       "      <th>4</th>\n",
       "      <td>33987a8ee5</td>\n",
       "      <td>http://twitpic.com/4w75p - I like it!!</td>\n",
       "      <td>positive</td>\n",
       "    </tr>\n",
       "  </tbody>\n",
       "</table>\n",
       "</div>"
      ],
      "text/plain": [
       "       textID                                               text sentiment\n",
       "0  f87dea47db  Last session of the day  http://twitpic.com/67ezh   neutral\n",
       "1  96d74cb729   Shanghai is also really exciting (precisely -...  positive\n",
       "2  eee518ae67  Recession hit Veronique Branquinho, she has to...  negative\n",
       "3  01082688c6                                        happy bday!  positive\n",
       "4  33987a8ee5             http://twitpic.com/4w75p - I like it!!  positive"
      ]
     },
     "execution_count": 6,
     "metadata": {},
     "output_type": "execute_result"
    }
   ],
   "source": [
    "test.head()"
   ]
  },
  {
   "cell_type": "code",
   "execution_count": 7,
   "metadata": {},
   "outputs": [
    {
     "data": {
      "text/html": [
       "<div>\n",
       "<style scoped>\n",
       "    .dataframe tbody tr th:only-of-type {\n",
       "        vertical-align: middle;\n",
       "    }\n",
       "\n",
       "    .dataframe tbody tr th {\n",
       "        vertical-align: top;\n",
       "    }\n",
       "\n",
       "    .dataframe thead th {\n",
       "        text-align: right;\n",
       "    }\n",
       "</style>\n",
       "<table border=\"1\" class=\"dataframe\">\n",
       "  <thead>\n",
       "    <tr style=\"text-align: right;\">\n",
       "      <th></th>\n",
       "      <th>textID</th>\n",
       "      <th>selected_text</th>\n",
       "    </tr>\n",
       "  </thead>\n",
       "  <tbody>\n",
       "    <tr>\n",
       "      <th>0</th>\n",
       "      <td>f87dea47db</td>\n",
       "      <td>NaN</td>\n",
       "    </tr>\n",
       "    <tr>\n",
       "      <th>1</th>\n",
       "      <td>96d74cb729</td>\n",
       "      <td>NaN</td>\n",
       "    </tr>\n",
       "    <tr>\n",
       "      <th>2</th>\n",
       "      <td>eee518ae67</td>\n",
       "      <td>NaN</td>\n",
       "    </tr>\n",
       "    <tr>\n",
       "      <th>3</th>\n",
       "      <td>01082688c6</td>\n",
       "      <td>NaN</td>\n",
       "    </tr>\n",
       "    <tr>\n",
       "      <th>4</th>\n",
       "      <td>33987a8ee5</td>\n",
       "      <td>NaN</td>\n",
       "    </tr>\n",
       "  </tbody>\n",
       "</table>\n",
       "</div>"
      ],
      "text/plain": [
       "       textID  selected_text\n",
       "0  f87dea47db            NaN\n",
       "1  96d74cb729            NaN\n",
       "2  eee518ae67            NaN\n",
       "3  01082688c6            NaN\n",
       "4  33987a8ee5            NaN"
      ]
     },
     "execution_count": 7,
     "metadata": {},
     "output_type": "execute_result"
    }
   ],
   "source": [
    "sample_submission.head()"
   ]
  },
  {
   "cell_type": "markdown",
   "metadata": {},
   "source": [
    "As we say, let's first return the whole original text for all neutral labelled samples."
   ]
  },
  {
   "cell_type": "code",
   "execution_count": 8,
   "metadata": {},
   "outputs": [
    {
     "data": {
      "text/html": [
       "<div>\n",
       "<style scoped>\n",
       "    .dataframe tbody tr th:only-of-type {\n",
       "        vertical-align: middle;\n",
       "    }\n",
       "\n",
       "    .dataframe tbody tr th {\n",
       "        vertical-align: top;\n",
       "    }\n",
       "\n",
       "    .dataframe thead th {\n",
       "        text-align: right;\n",
       "    }\n",
       "</style>\n",
       "<table border=\"1\" class=\"dataframe\">\n",
       "  <thead>\n",
       "    <tr style=\"text-align: right;\">\n",
       "      <th></th>\n",
       "      <th>textID</th>\n",
       "      <th>selected_text</th>\n",
       "    </tr>\n",
       "  </thead>\n",
       "  <tbody>\n",
       "    <tr>\n",
       "      <th>0</th>\n",
       "      <td>f87dea47db</td>\n",
       "      <td>Last session of the day  http://twitpic.com/67ezh</td>\n",
       "    </tr>\n",
       "    <tr>\n",
       "      <th>1</th>\n",
       "      <td>96d74cb729</td>\n",
       "      <td>NaN</td>\n",
       "    </tr>\n",
       "    <tr>\n",
       "      <th>2</th>\n",
       "      <td>eee518ae67</td>\n",
       "      <td>NaN</td>\n",
       "    </tr>\n",
       "    <tr>\n",
       "      <th>3</th>\n",
       "      <td>01082688c6</td>\n",
       "      <td>NaN</td>\n",
       "    </tr>\n",
       "    <tr>\n",
       "      <th>4</th>\n",
       "      <td>33987a8ee5</td>\n",
       "      <td>NaN</td>\n",
       "    </tr>\n",
       "  </tbody>\n",
       "</table>\n",
       "</div>"
      ],
      "text/plain": [
       "       textID                                      selected_text\n",
       "0  f87dea47db  Last session of the day  http://twitpic.com/67ezh\n",
       "1  96d74cb729                                                NaN\n",
       "2  eee518ae67                                                NaN\n",
       "3  01082688c6                                                NaN\n",
       "4  33987a8ee5                                                NaN"
      ]
     },
     "execution_count": 8,
     "metadata": {},
     "output_type": "execute_result"
    }
   ],
   "source": [
    "isNeutral = test.loc[test['sentiment'] == 'neutral', 'textID'].values.tolist()\n",
    "def get_selected_text_neutral(textID, df=test):\n",
    "    if textID in isNeutral:\n",
    "        return df.loc[df.textID==textID, 'text'].values.tolist()[0]\n",
    "    else:\n",
    "        return np.nan\n",
    "def treat_neutral(sample_submission):\n",
    "    sample_submission['selected_text'] = sample_submission['textID'].apply(get_selected_text_neutral, df=test)\n",
    "    return sample_submission\n",
    "sample_submission = treat_neutral(sample_submission)\n",
    "sample_submission.head()"
   ]
  },
  {
   "cell_type": "markdown",
   "metadata": {},
   "source": [
    "Now, let's treat positive and negative texts with the help of nltk."
   ]
  },
  {
   "cell_type": "code",
   "execution_count": 9,
   "metadata": {},
   "outputs": [],
   "source": [
    "from nltk import pos_tag, ngrams\n",
    "# nltk.download('sentiwordnet')\n",
    "from nltk.corpus import sentiwordnet as swn, wordnet as wn\n",
    "from nltk.tokenize import word_tokenize\n",
    "from nltk.stem import WordNetLemmatizer, PorterStemmer\n",
    "lemmatizer = WordNetLemmatizer()\n",
    "ps = PorterStemmer()"
   ]
  },
  {
   "cell_type": "code",
   "execution_count": 10,
   "metadata": {},
   "outputs": [],
   "source": [
    "import string\n",
    "filtre = [wn.NOUN, wn.ADJ, wn.ADV, wn.VERB]"
   ]
  },
  {
   "cell_type": "code",
   "execution_count": 11,
   "metadata": {},
   "outputs": [],
   "source": [
    "def penn_to_wn(tag):\n",
    "    \"\"\"\n",
    "    Convert between the PennTreebank tags to simple Wordnet tags\n",
    "    \"\"\"\n",
    "    if tag.startswith('J'):\n",
    "        return wn.ADJ\n",
    "    elif tag.startswith('N'):\n",
    "        return wn.NOUN\n",
    "    elif tag.startswith('R'):\n",
    "        return wn.ADV\n",
    "    elif tag.startswith('V'):\n",
    "        return wn.VERB\n",
    "    else:\n",
    "        return None\n",
    "        \n",
    "def get_sentiment(word, tag, verbose=0):\n",
    "    \"\"\" returns list of pos neg and objective score. But returns empty list if not present in senti wordnet. \"\"\"\n",
    "    wn_tag = penn_to_wn(tag)\n",
    "    if wn_tag not in filtre:\n",
    "        return []\n",
    "\n",
    "    lemma = lemmatizer.lemmatize(word, pos=wn_tag)\n",
    "    if verbose:\n",
    "        print(f'Lemmatizer : {lemma}')\n",
    "    if not lemma:\n",
    "        return []\n",
    "\n",
    "    synsets = wn.synsets(word, pos=wn_tag)\n",
    "    if verbose:\n",
    "        print(f'Synsets : {synsets}')\n",
    "    if not synsets:\n",
    "        return []\n",
    "\n",
    "    swn_synset_pos = []\n",
    "    swn_synset_neg = []\n",
    "    for synset in synsets:\n",
    "        swn_synset = swn.senti_synset(synset.name())\n",
    "        if verbose:\n",
    "            print(f'Pos score : {swn_synset.pos_score()}, Neg score : {swn_synset.neg_score()}')\n",
    "        swn_synset_pos.append(swn_synset.pos_score())\n",
    "        swn_synset_neg.append(swn_synset.neg_score())\n",
    "    return [np.mean(swn_synset_pos),np.mean(swn_synset_neg)]#,swn_synset.obj_score()\n",
    "\n",
    "def robustify(text=''):\n",
    "    if type(text) != str:\n",
    "        try:\n",
    "            text = str(text)\n",
    "        except:\n",
    "            text = ''\n",
    "    return text\n",
    "\n",
    "def score(text='', verbose=0):\n",
    "    text = robustify(text)\n",
    "    for dot in string.punctuation:\n",
    "        text = text.replace(dot,'')\n",
    "    tokenized_text = word_tokenize(text)\n",
    "    if verbose:\n",
    "        print(f'Tokenized text : {tokenized_text}')\n",
    "#     stemmed_text = [ps.stem(x) for x in tokenized_text]\n",
    "#     print(f'Stemmed text : {stemmed_text}')\n",
    "#     tags = pos_tag(stemmed_text)\n",
    "    tags = pos_tag(tokenized_text)\n",
    "    senti_val = [(x.lower(), get_sentiment(x.lower(),y, verbose)) for (x,y) in tags]\n",
    "    senti_val = list(filter(lambda x : len(x[1])>0, senti_val))\n",
    "    return senti_val"
   ]
  },
  {
   "cell_type": "code",
   "execution_count": 12,
   "metadata": {},
   "outputs": [
    {
     "name": "stdout",
     "output_type": "stream",
     "text": [
      "Tokenized text : ['thats', 'great', 'weee', 'visitors']\n",
      "Lemmatizer : thats\n",
      "Synsets : []\n",
      "Lemmatizer : great\n",
      "Synsets : [Synset('great.s.01'), Synset('great.s.02'), Synset('great.s.03'), Synset('bang-up.s.01'), Synset('capital.s.03'), Synset('big.s.13')]\n",
      "Pos score : 0.0, Neg score : 0.0\n",
      "Pos score : 0.75, Neg score : 0.0\n",
      "Pos score : 0.25, Neg score : 0.125\n",
      "Pos score : 0.875, Neg score : 0.0\n",
      "Pos score : 0.0, Neg score : 0.0\n",
      "Pos score : 0.0, Neg score : 0.0\n",
      "Lemmatizer : weee\n",
      "Synsets : []\n",
      "Lemmatizer : visitor\n",
      "Synsets : [Synset('visitor.n.01')]\n",
      "Pos score : 0.0, Neg score : 0.0\n"
     ]
    },
    {
     "data": {
      "text/plain": [
       "[('great', [0.3125, 0.020833333333333332]), ('visitors', [0.0, 0.0])]"
      ]
     },
     "execution_count": 12,
     "metadata": {},
     "output_type": "execute_result"
    }
   ],
   "source": [
    "score('that`s great!! weee!! visitors!', verbose=1)"
   ]
  },
  {
   "cell_type": "code",
   "execution_count": 13,
   "metadata": {},
   "outputs": [
    {
     "name": "stdout",
     "output_type": "stream",
     "text": [
      "Tokenized text : ['happy', 'bday']\n",
      "Lemmatizer : happy\n",
      "Synsets : [Synset('happy.a.01'), Synset('felicitous.s.02'), Synset('glad.s.02'), Synset('happy.s.04')]\n",
      "Pos score : 0.875, Neg score : 0.0\n",
      "Pos score : 0.75, Neg score : 0.0\n",
      "Pos score : 0.5, Neg score : 0.0\n",
      "Pos score : 0.125, Neg score : 0.0\n",
      "Lemmatizer : bday\n",
      "Synsets : []\n"
     ]
    },
    {
     "data": {
      "text/plain": [
       "[('happy', [0.5625, 0.0])]"
      ]
     },
     "execution_count": 13,
     "metadata": {},
     "output_type": "execute_result"
    }
   ],
   "source": [
    "score('happy bday!', verbose=1)"
   ]
  },
  {
   "cell_type": "code",
   "execution_count": 14,
   "metadata": {},
   "outputs": [
    {
     "name": "stdout",
     "output_type": "stream",
     "text": [
      "Tokenized text : ['Recession', 'hit', 'Veronique', 'Branquinho']\n",
      "Lemmatizer : recession\n",
      "Synsets : [Synset('recession.n.01'), Synset('recess.n.02'), Synset('recession.n.03'), Synset('recession.n.04'), Synset('receding.n.02')]\n",
      "Pos score : 0.0, Neg score : 0.0\n",
      "Pos score : 0.0, Neg score : 0.0\n",
      "Pos score : 0.0, Neg score : 0.0\n",
      "Pos score : 0.0, Neg score : 0.0\n",
      "Pos score : 0.0, Neg score : 0.0\n",
      "Lemmatizer : hit\n",
      "Synsets : [Synset('hit.v.01'), Synset('hit.v.02'), Synset('hit.v.03'), Synset('reach.v.01'), Synset('hit.v.05'), Synset('shoot.v.01'), Synset('stumble.v.03'), Synset('score.v.01'), Synset('hit.v.09'), Synset('strike.v.04'), Synset('murder.v.01'), Synset('hit.v.12'), Synset('reach.v.02'), Synset('strike.v.10'), Synset('hit.v.15'), Synset('hit.v.16'), Synset('hit.v.17')]\n",
      "Pos score : 0.0, Neg score : 0.0\n",
      "Pos score : 0.0, Neg score : 0.0\n",
      "Pos score : 0.0, Neg score : 0.0\n",
      "Pos score : 0.0, Neg score : 0.0\n",
      "Pos score : 0.0, Neg score : 0.0\n",
      "Pos score : 0.0, Neg score : 0.0\n",
      "Pos score : 0.0, Neg score : 0.0\n",
      "Pos score : 0.0, Neg score : 0.0\n",
      "Pos score : 0.0, Neg score : 0.125\n",
      "Pos score : 0.0, Neg score : 0.0\n",
      "Pos score : 0.0, Neg score : 0.625\n",
      "Pos score : 0.0, Neg score : 0.125\n",
      "Pos score : 0.0, Neg score : 0.0\n",
      "Pos score : 0.0, Neg score : 0.0\n",
      "Pos score : 0.0, Neg score : 0.0\n",
      "Pos score : 0.0, Neg score : 0.0\n",
      "Pos score : 0.0, Neg score : 0.0\n",
      "Lemmatizer : veronique\n",
      "Synsets : []\n",
      "Lemmatizer : branquinho\n",
      "Synsets : []\n"
     ]
    },
    {
     "data": {
      "text/plain": [
       "[('recession', [0.0, 0.0]), ('hit', [0.0, 0.051470588235294115])]"
      ]
     },
     "execution_count": 14,
     "metadata": {},
     "output_type": "execute_result"
    }
   ],
   "source": [
    "score('Recession hit Veronique Branquinho', verbose=1)"
   ]
  },
  {
   "cell_type": "code",
   "execution_count": 15,
   "metadata": {},
   "outputs": [],
   "source": [
    "test['senti_val'] = test['text'].apply(score)"
   ]
  },
  {
   "cell_type": "code",
   "execution_count": 16,
   "metadata": {},
   "outputs": [
    {
     "data": {
      "text/html": [
       "<div>\n",
       "<style scoped>\n",
       "    .dataframe tbody tr th:only-of-type {\n",
       "        vertical-align: middle;\n",
       "    }\n",
       "\n",
       "    .dataframe tbody tr th {\n",
       "        vertical-align: top;\n",
       "    }\n",
       "\n",
       "    .dataframe thead th {\n",
       "        text-align: right;\n",
       "    }\n",
       "</style>\n",
       "<table border=\"1\" class=\"dataframe\">\n",
       "  <thead>\n",
       "    <tr style=\"text-align: right;\">\n",
       "      <th></th>\n",
       "      <th>textID</th>\n",
       "      <th>text</th>\n",
       "      <th>sentiment</th>\n",
       "      <th>senti_val</th>\n",
       "    </tr>\n",
       "  </thead>\n",
       "  <tbody>\n",
       "    <tr>\n",
       "      <th>1</th>\n",
       "      <td>96d74cb729</td>\n",
       "      <td>Shanghai is also really exciting (precisely -...</td>\n",
       "      <td>positive</td>\n",
       "      <td>[(shanghai, [0.0, 0.0]), (is, [0.0288461538461...</td>\n",
       "    </tr>\n",
       "    <tr>\n",
       "      <th>2</th>\n",
       "      <td>eee518ae67</td>\n",
       "      <td>Recession hit Veronique Branquinho, she has to...</td>\n",
       "      <td>negative</td>\n",
       "      <td>[(recession, [0.0, 0.0]), (hit, [0.0, 0.051470...</td>\n",
       "    </tr>\n",
       "    <tr>\n",
       "      <th>3</th>\n",
       "      <td>01082688c6</td>\n",
       "      <td>happy bday!</td>\n",
       "      <td>positive</td>\n",
       "      <td>[(happy, [0.5625, 0.0])]</td>\n",
       "    </tr>\n",
       "    <tr>\n",
       "      <th>4</th>\n",
       "      <td>33987a8ee5</td>\n",
       "      <td>http://twitpic.com/4w75p - I like it!!</td>\n",
       "      <td>positive</td>\n",
       "      <td>[]</td>\n",
       "    </tr>\n",
       "    <tr>\n",
       "      <th>5</th>\n",
       "      <td>726e501993</td>\n",
       "      <td>that`s great!! weee!! visitors!</td>\n",
       "      <td>positive</td>\n",
       "      <td>[(great, [0.3125, 0.020833333333333332]), (vis...</td>\n",
       "    </tr>\n",
       "  </tbody>\n",
       "</table>\n",
       "</div>"
      ],
      "text/plain": [
       "       textID                                               text sentiment  \\\n",
       "1  96d74cb729   Shanghai is also really exciting (precisely -...  positive   \n",
       "2  eee518ae67  Recession hit Veronique Branquinho, she has to...  negative   \n",
       "3  01082688c6                                        happy bday!  positive   \n",
       "4  33987a8ee5             http://twitpic.com/4w75p - I like it!!  positive   \n",
       "5  726e501993                    that`s great!! weee!! visitors!  positive   \n",
       "\n",
       "                                           senti_val  \n",
       "1  [(shanghai, [0.0, 0.0]), (is, [0.0288461538461...  \n",
       "2  [(recession, [0.0, 0.0]), (hit, [0.0, 0.051470...  \n",
       "3                           [(happy, [0.5625, 0.0])]  \n",
       "4                                                 []  \n",
       "5  [(great, [0.3125, 0.020833333333333332]), (vis...  "
      ]
     },
     "execution_count": 16,
     "metadata": {},
     "output_type": "execute_result"
    }
   ],
   "source": [
    "test.loc[test.sentiment != 'neutral'].head()"
   ]
  },
  {
   "cell_type": "code",
   "execution_count": 17,
   "metadata": {
    "_cell_guid": "79c7e3d0-c299-4dcb-8224-4455121ee9b0",
    "_uuid": "d629ff2d2480ee46fbb7e2d37f6b5fab8052498a"
   },
   "outputs": [
    {
     "data": {
      "text/html": [
       "<div>\n",
       "<style scoped>\n",
       "    .dataframe tbody tr th:only-of-type {\n",
       "        vertical-align: middle;\n",
       "    }\n",
       "\n",
       "    .dataframe tbody tr th {\n",
       "        vertical-align: top;\n",
       "    }\n",
       "\n",
       "    .dataframe thead th {\n",
       "        text-align: right;\n",
       "    }\n",
       "</style>\n",
       "<table border=\"1\" class=\"dataframe\">\n",
       "  <thead>\n",
       "    <tr style=\"text-align: right;\">\n",
       "      <th></th>\n",
       "      <th>textID</th>\n",
       "      <th>text</th>\n",
       "      <th>sentiment</th>\n",
       "      <th>senti_val</th>\n",
       "    </tr>\n",
       "  </thead>\n",
       "  <tbody>\n",
       "    <tr>\n",
       "      <th>0</th>\n",
       "      <td>f87dea47db</td>\n",
       "      <td>Last session of the day  http://twitpic.com/67ezh</td>\n",
       "      <td>neutral</td>\n",
       "      <td>[]</td>\n",
       "    </tr>\n",
       "    <tr>\n",
       "      <th>1</th>\n",
       "      <td>96d74cb729</td>\n",
       "      <td>Shanghai is also really exciting (precisely -...</td>\n",
       "      <td>positive</td>\n",
       "      <td>[(shanghai, 0.0), (is, 0.028846153846153848), ...</td>\n",
       "    </tr>\n",
       "    <tr>\n",
       "      <th>2</th>\n",
       "      <td>eee518ae67</td>\n",
       "      <td>Recession hit Veronique Branquinho, she has to...</td>\n",
       "      <td>negative</td>\n",
       "      <td>[(recession, 0.0), (hit, 0.051470588235294115)...</td>\n",
       "    </tr>\n",
       "    <tr>\n",
       "      <th>3</th>\n",
       "      <td>01082688c6</td>\n",
       "      <td>happy bday!</td>\n",
       "      <td>positive</td>\n",
       "      <td>[(happy, 0.5625)]</td>\n",
       "    </tr>\n",
       "    <tr>\n",
       "      <th>4</th>\n",
       "      <td>33987a8ee5</td>\n",
       "      <td>http://twitpic.com/4w75p - I like it!!</td>\n",
       "      <td>positive</td>\n",
       "      <td>[]</td>\n",
       "    </tr>\n",
       "    <tr>\n",
       "      <th>5</th>\n",
       "      <td>726e501993</td>\n",
       "      <td>that`s great!! weee!! visitors!</td>\n",
       "      <td>positive</td>\n",
       "      <td>[(great, 0.3125), (visitors, 0.0)]</td>\n",
       "    </tr>\n",
       "    <tr>\n",
       "      <th>6</th>\n",
       "      <td>261932614e</td>\n",
       "      <td>I THINK EVERYONE HATES ME ON HERE   lol</td>\n",
       "      <td>negative</td>\n",
       "      <td>[(think, 0.009615384615384616), (hates, 0.375)...</td>\n",
       "    </tr>\n",
       "    <tr>\n",
       "      <th>7</th>\n",
       "      <td>afa11da83f</td>\n",
       "      <td>soooooo wish i could, but im in school and my...</td>\n",
       "      <td>negative</td>\n",
       "      <td>[(wish, 0.0), (i, 0.0), (school, 0.0), (is, 0....</td>\n",
       "    </tr>\n",
       "    <tr>\n",
       "      <th>8</th>\n",
       "      <td>e64208b4ef</td>\n",
       "      <td>and within a short time of the last clue all ...</td>\n",
       "      <td>neutral</td>\n",
       "      <td>[]</td>\n",
       "    </tr>\n",
       "    <tr>\n",
       "      <th>9</th>\n",
       "      <td>37bcad24ca</td>\n",
       "      <td>What did you get?  My day is alright.. haven`...</td>\n",
       "      <td>neutral</td>\n",
       "      <td>[]</td>\n",
       "    </tr>\n",
       "    <tr>\n",
       "      <th>10</th>\n",
       "      <td>24c92644a4</td>\n",
       "      <td>My bike was put on hold...should have known th...</td>\n",
       "      <td>negative</td>\n",
       "      <td>[(bike, 0.0), (was, 0.019230769230769232), (pu...</td>\n",
       "    </tr>\n",
       "    <tr>\n",
       "      <th>11</th>\n",
       "      <td>43b390b336</td>\n",
       "      <td>I checked.  We didn`t win</td>\n",
       "      <td>neutral</td>\n",
       "      <td>[]</td>\n",
       "    </tr>\n",
       "    <tr>\n",
       "      <th>12</th>\n",
       "      <td>69d6b5d93e</td>\n",
       "      <td>.. and you`re on twitter! Did the tavern bore...</td>\n",
       "      <td>neutral</td>\n",
       "      <td>[]</td>\n",
       "    </tr>\n",
       "    <tr>\n",
       "      <th>13</th>\n",
       "      <td>5c1e0b61a1</td>\n",
       "      <td>I`m in VA for the weekend, my youngest son tur...</td>\n",
       "      <td>negative</td>\n",
       "      <td>[(va, 0.0), (weekend, 0.0), (youngest, 0.15), ...</td>\n",
       "    </tr>\n",
       "    <tr>\n",
       "      <th>14</th>\n",
       "      <td>504e45d9d9</td>\n",
       "      <td>Its coming out the socket  I feel like my phon...</td>\n",
       "      <td>negative</td>\n",
       "      <td>[(coming, 0.005952380952380952), (out, 0.0), (...</td>\n",
       "    </tr>\n",
       "    <tr>\n",
       "      <th>15</th>\n",
       "      <td>ae93ad52a0</td>\n",
       "      <td>So hot today =_=  don`t like it and i hate my ...</td>\n",
       "      <td>negative</td>\n",
       "      <td>[(so, 0.0), (hot, 0.11904761904761904), (today...</td>\n",
       "    </tr>\n",
       "    <tr>\n",
       "      <th>16</th>\n",
       "      <td>9fce30159a</td>\n",
       "      <td>Miss you</td>\n",
       "      <td>negative</td>\n",
       "      <td>[(miss, 0.0)]</td>\n",
       "    </tr>\n",
       "    <tr>\n",
       "      <th>17</th>\n",
       "      <td>00d5195223</td>\n",
       "      <td>Cramps . . .</td>\n",
       "      <td>negative</td>\n",
       "      <td>[(cramps, 0.25)]</td>\n",
       "    </tr>\n",
       "    <tr>\n",
       "      <th>18</th>\n",
       "      <td>33f19050cf</td>\n",
       "      <td>you guys didn`t say hi or answer my questions...</td>\n",
       "      <td>positive</td>\n",
       "      <td>[(guys, 0.0), (say, 0.011363636363636364), (hi...</td>\n",
       "    </tr>\n",
       "    <tr>\n",
       "      <th>19</th>\n",
       "      <td>f7718b3c23</td>\n",
       "      <td>I`m going into a spiritual stagnentation, its ...</td>\n",
       "      <td>neutral</td>\n",
       "      <td>[]</td>\n",
       "    </tr>\n",
       "  </tbody>\n",
       "</table>\n",
       "</div>"
      ],
      "text/plain": [
       "        textID                                               text sentiment  \\\n",
       "0   f87dea47db  Last session of the day  http://twitpic.com/67ezh   neutral   \n",
       "1   96d74cb729   Shanghai is also really exciting (precisely -...  positive   \n",
       "2   eee518ae67  Recession hit Veronique Branquinho, she has to...  negative   \n",
       "3   01082688c6                                        happy bday!  positive   \n",
       "4   33987a8ee5             http://twitpic.com/4w75p - I like it!!  positive   \n",
       "5   726e501993                    that`s great!! weee!! visitors!  positive   \n",
       "6   261932614e            I THINK EVERYONE HATES ME ON HERE   lol  negative   \n",
       "7   afa11da83f   soooooo wish i could, but im in school and my...  negative   \n",
       "8   e64208b4ef   and within a short time of the last clue all ...   neutral   \n",
       "9   37bcad24ca   What did you get?  My day is alright.. haven`...   neutral   \n",
       "10  24c92644a4  My bike was put on hold...should have known th...  negative   \n",
       "11  43b390b336                          I checked.  We didn`t win   neutral   \n",
       "12  69d6b5d93e   .. and you`re on twitter! Did the tavern bore...   neutral   \n",
       "13  5c1e0b61a1  I`m in VA for the weekend, my youngest son tur...  negative   \n",
       "14  504e45d9d9  Its coming out the socket  I feel like my phon...  negative   \n",
       "15  ae93ad52a0  So hot today =_=  don`t like it and i hate my ...  negative   \n",
       "16  9fce30159a                                           Miss you  negative   \n",
       "17  00d5195223                                       Cramps . . .  negative   \n",
       "18  33f19050cf   you guys didn`t say hi or answer my questions...  positive   \n",
       "19  f7718b3c23  I`m going into a spiritual stagnentation, its ...   neutral   \n",
       "\n",
       "                                            senti_val  \n",
       "0                                                  []  \n",
       "1   [(shanghai, 0.0), (is, 0.028846153846153848), ...  \n",
       "2   [(recession, 0.0), (hit, 0.051470588235294115)...  \n",
       "3                                   [(happy, 0.5625)]  \n",
       "4                                                  []  \n",
       "5                  [(great, 0.3125), (visitors, 0.0)]  \n",
       "6   [(think, 0.009615384615384616), (hates, 0.375)...  \n",
       "7   [(wish, 0.0), (i, 0.0), (school, 0.0), (is, 0....  \n",
       "8                                                  []  \n",
       "9                                                  []  \n",
       "10  [(bike, 0.0), (was, 0.019230769230769232), (pu...  \n",
       "11                                                 []  \n",
       "12                                                 []  \n",
       "13  [(va, 0.0), (weekend, 0.0), (youngest, 0.15), ...  \n",
       "14  [(coming, 0.005952380952380952), (out, 0.0), (...  \n",
       "15  [(so, 0.0), (hot, 0.11904761904761904), (today...  \n",
       "16                                      [(miss, 0.0)]  \n",
       "17                                   [(cramps, 0.25)]  \n",
       "18  [(guys, 0.0), (say, 0.011363636363636364), (hi...  \n",
       "19                                                 []  "
      ]
     },
     "execution_count": 17,
     "metadata": {},
     "output_type": "execute_result"
    }
   ],
   "source": [
    "def treat_senti_val(sentiment, senti_val):\n",
    "    if sentiment == 'neutral':\n",
    "        return []\n",
    "    sent = 0 if sentiment=='positive' else 1\n",
    "    return [(t[0], t[1][sent]) for t in senti_val] # if t[1][sent]>0\n",
    "test['senti_val'] = test.apply(lambda df: treat_senti_val(df.sentiment, df.senti_val), axis=1)\n",
    "test.head(20)"
   ]
  },
  {
   "cell_type": "markdown",
   "metadata": {},
   "source": [
    "In case no sentiments have been returned, we will return the original text. Note that this code retreats the neutral case we have dealt with at the beginning."
   ]
  },
  {
   "cell_type": "code",
   "execution_count": 18,
   "metadata": {},
   "outputs": [
    {
     "data": {
      "text/html": [
       "<div>\n",
       "<style scoped>\n",
       "    .dataframe tbody tr th:only-of-type {\n",
       "        vertical-align: middle;\n",
       "    }\n",
       "\n",
       "    .dataframe tbody tr th {\n",
       "        vertical-align: top;\n",
       "    }\n",
       "\n",
       "    .dataframe thead th {\n",
       "        text-align: right;\n",
       "    }\n",
       "</style>\n",
       "<table border=\"1\" class=\"dataframe\">\n",
       "  <thead>\n",
       "    <tr style=\"text-align: right;\">\n",
       "      <th></th>\n",
       "      <th>textID</th>\n",
       "      <th>text</th>\n",
       "      <th>sentiment</th>\n",
       "      <th>senti_val</th>\n",
       "      <th>selected_text</th>\n",
       "    </tr>\n",
       "  </thead>\n",
       "  <tbody>\n",
       "    <tr>\n",
       "      <th>0</th>\n",
       "      <td>f87dea47db</td>\n",
       "      <td>Last session of the day  http://twitpic.com/67ezh</td>\n",
       "      <td>neutral</td>\n",
       "      <td>[]</td>\n",
       "      <td>Last session of the day  http://twitpic.com/67ezh</td>\n",
       "    </tr>\n",
       "    <tr>\n",
       "      <th>1</th>\n",
       "      <td>96d74cb729</td>\n",
       "      <td>Shanghai is also really exciting (precisely -...</td>\n",
       "      <td>positive</td>\n",
       "      <td>[(shanghai, 0.0), (is, 0.028846153846153848), ...</td>\n",
       "      <td>really exciting precisely good china</td>\n",
       "    </tr>\n",
       "    <tr>\n",
       "      <th>2</th>\n",
       "      <td>eee518ae67</td>\n",
       "      <td>Recession hit Veronique Branquinho, she has to...</td>\n",
       "      <td>negative</td>\n",
       "      <td>[(recession, 0.0), (hit, 0.051470588235294115)...</td>\n",
       "      <td>shame</td>\n",
       "    </tr>\n",
       "    <tr>\n",
       "      <th>3</th>\n",
       "      <td>01082688c6</td>\n",
       "      <td>happy bday!</td>\n",
       "      <td>positive</td>\n",
       "      <td>[(happy, 0.5625)]</td>\n",
       "      <td>happy</td>\n",
       "    </tr>\n",
       "    <tr>\n",
       "      <th>4</th>\n",
       "      <td>33987a8ee5</td>\n",
       "      <td>http://twitpic.com/4w75p - I like it!!</td>\n",
       "      <td>positive</td>\n",
       "      <td>[]</td>\n",
       "      <td>http://twitpic.com/4w75p - I like it!!</td>\n",
       "    </tr>\n",
       "  </tbody>\n",
       "</table>\n",
       "</div>"
      ],
      "text/plain": [
       "       textID                                               text sentiment  \\\n",
       "0  f87dea47db  Last session of the day  http://twitpic.com/67ezh   neutral   \n",
       "1  96d74cb729   Shanghai is also really exciting (precisely -...  positive   \n",
       "2  eee518ae67  Recession hit Veronique Branquinho, she has to...  negative   \n",
       "3  01082688c6                                        happy bday!  positive   \n",
       "4  33987a8ee5             http://twitpic.com/4w75p - I like it!!  positive   \n",
       "\n",
       "                                           senti_val  \\\n",
       "0                                                 []   \n",
       "1  [(shanghai, 0.0), (is, 0.028846153846153848), ...   \n",
       "2  [(recession, 0.0), (hit, 0.051470588235294115)...   \n",
       "3                                  [(happy, 0.5625)]   \n",
       "4                                                 []   \n",
       "\n",
       "                                       selected_text  \n",
       "0  Last session of the day  http://twitpic.com/67ezh  \n",
       "1               really exciting precisely good china  \n",
       "2                                              shame  \n",
       "3                                              happy  \n",
       "4             http://twitpic.com/4w75p - I like it!!  "
      ]
     },
     "execution_count": 18,
     "metadata": {},
     "output_type": "execute_result"
    }
   ],
   "source": [
    "def get_selected_text(text, senti_val):\n",
    "    if len(senti_val)==0:\n",
    "        return text\n",
    "    else:\n",
    "        return ' '.join([t[0] for t in senti_val if t[1]>0.1])\n",
    "test['selected_text'] = test.apply(lambda df:get_selected_text(df['text'],df['senti_val']), axis=1)\n",
    "test.head()"
   ]
  },
  {
   "cell_type": "code",
   "execution_count": 19,
   "metadata": {},
   "outputs": [],
   "source": [
    "for i, row in test.loc[test.sentiment!='neutral'].iterrows():\n",
    "    sample_submission.loc[sample_submission.textID==row['textID'], 'selected_text'] = row['selected_text']"
   ]
  },
  {
   "cell_type": "code",
   "execution_count": 20,
   "metadata": {},
   "outputs": [
    {
     "data": {
      "text/html": [
       "<div>\n",
       "<style scoped>\n",
       "    .dataframe tbody tr th:only-of-type {\n",
       "        vertical-align: middle;\n",
       "    }\n",
       "\n",
       "    .dataframe tbody tr th {\n",
       "        vertical-align: top;\n",
       "    }\n",
       "\n",
       "    .dataframe thead th {\n",
       "        text-align: right;\n",
       "    }\n",
       "</style>\n",
       "<table border=\"1\" class=\"dataframe\">\n",
       "  <thead>\n",
       "    <tr style=\"text-align: right;\">\n",
       "      <th></th>\n",
       "      <th>textID</th>\n",
       "      <th>selected_text</th>\n",
       "    </tr>\n",
       "  </thead>\n",
       "  <tbody>\n",
       "    <tr>\n",
       "      <th>0</th>\n",
       "      <td>f87dea47db</td>\n",
       "      <td>Last session of the day  http://twitpic.com/67ezh</td>\n",
       "    </tr>\n",
       "    <tr>\n",
       "      <th>1</th>\n",
       "      <td>96d74cb729</td>\n",
       "      <td>really exciting precisely good china</td>\n",
       "    </tr>\n",
       "    <tr>\n",
       "      <th>2</th>\n",
       "      <td>eee518ae67</td>\n",
       "      <td>shame</td>\n",
       "    </tr>\n",
       "    <tr>\n",
       "      <th>3</th>\n",
       "      <td>01082688c6</td>\n",
       "      <td>happy</td>\n",
       "    </tr>\n",
       "    <tr>\n",
       "      <th>4</th>\n",
       "      <td>33987a8ee5</td>\n",
       "      <td>http://twitpic.com/4w75p - I like it!!</td>\n",
       "    </tr>\n",
       "  </tbody>\n",
       "</table>\n",
       "</div>"
      ],
      "text/plain": [
       "       textID                                      selected_text\n",
       "0  f87dea47db  Last session of the day  http://twitpic.com/67ezh\n",
       "1  96d74cb729               really exciting precisely good china\n",
       "2  eee518ae67                                              shame\n",
       "3  01082688c6                                              happy\n",
       "4  33987a8ee5             http://twitpic.com/4w75p - I like it!!"
      ]
     },
     "execution_count": 20,
     "metadata": {},
     "output_type": "execute_result"
    }
   ],
   "source": [
    "sample_submission.head()"
   ]
  },
  {
   "cell_type": "code",
   "execution_count": 21,
   "metadata": {},
   "outputs": [],
   "source": [
    "sample_submission.to_csv('submission.csv', index=False)"
   ]
  }
 ],
 "metadata": {
  "kernelspec": {
   "display_name": "Python 3",
   "language": "python",
   "name": "python3"
  },
  "language_info": {
   "codemirror_mode": {
    "name": "ipython",
    "version": 3
   },
   "file_extension": ".py",
   "mimetype": "text/x-python",
   "name": "python",
   "nbconvert_exporter": "python",
   "pygments_lexer": "ipython3",
   "version": "3.7.6"
  }
 },
 "nbformat": 4,
 "nbformat_minor": 4
}
